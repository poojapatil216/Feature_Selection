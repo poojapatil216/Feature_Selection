{
 "cells": [
  {
   "cell_type": "code",
   "execution_count": 1,
   "metadata": {},
   "outputs": [
    {
     "data": {
      "text/html": [
       "<div>\n",
       "<style>\n",
       "    .dataframe thead tr:only-child th {\n",
       "        text-align: right;\n",
       "    }\n",
       "\n",
       "    .dataframe thead th {\n",
       "        text-align: left;\n",
       "    }\n",
       "\n",
       "    .dataframe tbody tr th {\n",
       "        vertical-align: top;\n",
       "    }\n",
       "</style>\n",
       "<table border=\"1\" class=\"dataframe\">\n",
       "  <thead>\n",
       "    <tr style=\"text-align: right;\">\n",
       "      <th></th>\n",
       "      <th>load_type</th>\n",
       "      <th>truck_type</th>\n",
       "      <th>route_type</th>\n",
       "      <th>rainfall</th>\n",
       "      <th>temperature</th>\n",
       "      <th>temp_type</th>\n",
       "      <th>tyre1_press</th>\n",
       "      <th>tyre1_press_stat</th>\n",
       "      <th>tyre2_press</th>\n",
       "      <th>tyre2_press_stat</th>\n",
       "      <th>...</th>\n",
       "      <th>avg_speed</th>\n",
       "      <th>time</th>\n",
       "      <th>fuel</th>\n",
       "      <th>tyre1_condition</th>\n",
       "      <th>tyre2_condition</th>\n",
       "      <th>tyre3_condition</th>\n",
       "      <th>tyre4_condition</th>\n",
       "      <th>tyre5_condition</th>\n",
       "      <th>tyre6_condition</th>\n",
       "      <th>efficiency</th>\n",
       "    </tr>\n",
       "  </thead>\n",
       "  <tbody>\n",
       "    <tr>\n",
       "      <th>245</th>\n",
       "      <td>Heavy Load</td>\n",
       "      <td>FTL</td>\n",
       "      <td>Bumpy</td>\n",
       "      <td>N</td>\n",
       "      <td>26</td>\n",
       "      <td>Normal</td>\n",
       "      <td>61</td>\n",
       "      <td>Correct</td>\n",
       "      <td>47</td>\n",
       "      <td>Correct</td>\n",
       "      <td>...</td>\n",
       "      <td>52</td>\n",
       "      <td>13</td>\n",
       "      <td>58</td>\n",
       "      <td>tyre1_not flat</td>\n",
       "      <td>tyre2_not flat</td>\n",
       "      <td>tyre3_not flat</td>\n",
       "      <td>tyre4_not flat</td>\n",
       "      <td>tyre5_not flat</td>\n",
       "      <td>tyre6_not flat</td>\n",
       "      <td>0.454402</td>\n",
       "    </tr>\n",
       "    <tr>\n",
       "      <th>246</th>\n",
       "      <td>Heavy Load</td>\n",
       "      <td>FTL</td>\n",
       "      <td>Bumpy</td>\n",
       "      <td>N</td>\n",
       "      <td>33</td>\n",
       "      <td>Normal</td>\n",
       "      <td>35</td>\n",
       "      <td>Correct</td>\n",
       "      <td>50</td>\n",
       "      <td>Correct</td>\n",
       "      <td>...</td>\n",
       "      <td>55</td>\n",
       "      <td>12</td>\n",
       "      <td>55</td>\n",
       "      <td>tyre1_not flat</td>\n",
       "      <td>tyre2_not flat</td>\n",
       "      <td>tyre3_not flat</td>\n",
       "      <td>tyre4_not flat</td>\n",
       "      <td>tyre5_not flat</td>\n",
       "      <td>tyre6_not flat</td>\n",
       "      <td>0.374753</td>\n",
       "    </tr>\n",
       "    <tr>\n",
       "      <th>247</th>\n",
       "      <td>Moderate</td>\n",
       "      <td>LCV</td>\n",
       "      <td>Hilly</td>\n",
       "      <td>N</td>\n",
       "      <td>27</td>\n",
       "      <td>Normal</td>\n",
       "      <td>50</td>\n",
       "      <td>Correct</td>\n",
       "      <td>58</td>\n",
       "      <td>Correct</td>\n",
       "      <td>...</td>\n",
       "      <td>47</td>\n",
       "      <td>16</td>\n",
       "      <td>76</td>\n",
       "      <td>tyre1_not flat</td>\n",
       "      <td>tyre2_not flat</td>\n",
       "      <td>tyre3_not flat</td>\n",
       "      <td>tyre4_not flat</td>\n",
       "      <td>tyre5_not flat</td>\n",
       "      <td>tyre6_not flat</td>\n",
       "      <td>0.853543</td>\n",
       "    </tr>\n",
       "    <tr>\n",
       "      <th>248</th>\n",
       "      <td>Moderate</td>\n",
       "      <td>FTL</td>\n",
       "      <td>Bumpy</td>\n",
       "      <td>N</td>\n",
       "      <td>25</td>\n",
       "      <td>Normal</td>\n",
       "      <td>38</td>\n",
       "      <td>Correct</td>\n",
       "      <td>55</td>\n",
       "      <td>Correct</td>\n",
       "      <td>...</td>\n",
       "      <td>46</td>\n",
       "      <td>10</td>\n",
       "      <td>50</td>\n",
       "      <td>tyre1_not flat</td>\n",
       "      <td>tyre2_not flat</td>\n",
       "      <td>tyre3_not flat</td>\n",
       "      <td>tyre4_not flat</td>\n",
       "      <td>tyre5_flat</td>\n",
       "      <td>tyre6_not flat</td>\n",
       "      <td>0.969576</td>\n",
       "    </tr>\n",
       "    <tr>\n",
       "      <th>249</th>\n",
       "      <td>Full Load</td>\n",
       "      <td>LCV</td>\n",
       "      <td>Plain</td>\n",
       "      <td>N</td>\n",
       "      <td>31</td>\n",
       "      <td>Normal</td>\n",
       "      <td>41</td>\n",
       "      <td>Correct</td>\n",
       "      <td>36</td>\n",
       "      <td>Correct</td>\n",
       "      <td>...</td>\n",
       "      <td>53</td>\n",
       "      <td>9</td>\n",
       "      <td>38</td>\n",
       "      <td>tyre1_not flat</td>\n",
       "      <td>tyre2_not flat</td>\n",
       "      <td>tyre3_not flat</td>\n",
       "      <td>tyre4_not flat</td>\n",
       "      <td>tyre5_flat</td>\n",
       "      <td>tyre6_not flat</td>\n",
       "      <td>0.286744</td>\n",
       "    </tr>\n",
       "  </tbody>\n",
       "</table>\n",
       "<p>5 rows × 28 columns</p>\n",
       "</div>"
      ],
      "text/plain": [
       "      load_type truck_type route_type rainfall  temperature temp_type  \\\n",
       "245  Heavy Load        FTL      Bumpy        N           26    Normal   \n",
       "246  Heavy Load        FTL      Bumpy        N           33    Normal   \n",
       "247    Moderate        LCV      Hilly        N           27    Normal   \n",
       "248    Moderate        FTL      Bumpy        N           25    Normal   \n",
       "249   Full Load        LCV      Plain        N           31    Normal   \n",
       "\n",
       "     tyre1_press tyre1_press_stat  tyre2_press tyre2_press_stat     ...      \\\n",
       "245           61          Correct           47          Correct     ...       \n",
       "246           35          Correct           50          Correct     ...       \n",
       "247           50          Correct           58          Correct     ...       \n",
       "248           38          Correct           55          Correct     ...       \n",
       "249           41          Correct           36          Correct     ...       \n",
       "\n",
       "     avg_speed time  fuel tyre1_condition  tyre2_condition tyre3_condition  \\\n",
       "245         52   13    58  tyre1_not flat   tyre2_not flat  tyre3_not flat   \n",
       "246         55   12    55  tyre1_not flat   tyre2_not flat  tyre3_not flat   \n",
       "247         47   16    76  tyre1_not flat   tyre2_not flat  tyre3_not flat   \n",
       "248         46   10    50  tyre1_not flat   tyre2_not flat  tyre3_not flat   \n",
       "249         53    9    38  tyre1_not flat   tyre2_not flat  tyre3_not flat   \n",
       "\n",
       "     tyre4_condition tyre5_condition  tyre6_condition  efficiency  \n",
       "245   tyre4_not flat  tyre5_not flat   tyre6_not flat    0.454402  \n",
       "246   tyre4_not flat  tyre5_not flat   tyre6_not flat    0.374753  \n",
       "247   tyre4_not flat  tyre5_not flat   tyre6_not flat    0.853543  \n",
       "248   tyre4_not flat      tyre5_flat   tyre6_not flat    0.969576  \n",
       "249   tyre4_not flat      tyre5_flat   tyre6_not flat    0.286744  \n",
       "\n",
       "[5 rows x 28 columns]"
      ]
     },
     "execution_count": 1,
     "metadata": {},
     "output_type": "execute_result"
    }
   ],
   "source": [
    "import pandas as pd\n",
    "import numpy as np\n",
    "df = pd.read_csv('test_data.csv')\n",
    "feature_dict = {i:label for i,label in zip(\n",
    "                range(21),\n",
    "                  ('load_type',\n",
    "                   'truck_type',\n",
    "                   'route_type',\n",
    "                   'rainfall',\n",
    "                   'temperature',\n",
    "                   'temp_type',\n",
    "                   'tyre1_press',\n",
    "                   'tyre1_press_stat',\n",
    "                   'tyre2_press',\n",
    "                   'tyre2_press_stat',\n",
    "                   'tyre3_press',\n",
    "                   'tyre3_press_stat',\n",
    "                   'tyre4_press',\n",
    "                   'tyre4_press_stat',\n",
    "                   'tyre5_press',\n",
    "                   'tyre5_press_stat',\n",
    "                   'tyre6_press',\n",
    "                   'tyre6_press_stat',\n",
    "                   'avg_speed',\n",
    "                   'time',\n",
    "                   'fuel',\n",
    "                   ))}\n",
    "\n",
    "df.columns = [l for i,l in sorted(feature_dict.items())] + [\n",
    "                   'tyre1_condition',\n",
    "                   'tyre2_condition',\n",
    "                   'tyre3_condition',\n",
    "                   'tyre4_condition',\n",
    "                   'tyre5_condition',\n",
    "                   'tyre6_condition',\n",
    "                   'efficiency',      ]\n",
    "df.dropna(how=\"all\", inplace=True) # to drop the empty line at file-end\n",
    "\n",
    "df.tail()\n"
   ]
  },
  {
   "cell_type": "code",
   "execution_count": 2,
   "metadata": {
    "collapsed": true
   },
   "outputs": [],
   "source": [
    "final_df=pd.DataFrame()\n",
    "final_df['Feature']=['Temperature',\n",
    "                     'Tyre 1 Pressure',\n",
    "                     'Tyre 2 Pressure',\n",
    "                     'Tyre 3 Pressure',\n",
    "                     'Tyre 4 Pressure',\n",
    "                     'Tyre 5 Pressure',\n",
    "                     'Tyre 6 Pressure',\n",
    "                     'Average Speed',\n",
    "                     'Time',\n",
    "                     'Fuel',]\n",
    "scores=[]"
   ]
  },
  {
   "cell_type": "code",
   "execution_count": 3,
   "metadata": {},
   "outputs": [
    {
     "name": "stdout",
     "output_type": "stream",
     "text": [
      "Temperature\n",
      "1.0261668501\n"
     ]
    }
   ],
   "source": [
    "from scipy import stats\n",
    "from scipy.spatial.distance import correlation\n",
    "print('Temperature')\n",
    "dist_corr=correlation(df[\"efficiency\"], df[\"temperature\"])\n",
    "print(dist_corr)\n",
    "scores.append(dist_corr-1)\n",
    "#print(scores)"
   ]
  },
  {
   "cell_type": "code",
   "execution_count": 4,
   "metadata": {},
   "outputs": [
    {
     "name": "stdout",
     "output_type": "stream",
     "text": [
      "Tyre 1 Pressure\n",
      "1.03675312235\n",
      "[0.026166850095449723, 0.036753122354680201]\n"
     ]
    }
   ],
   "source": [
    "from scipy import stats \n",
    "print('Tyre 1 Pressure')\n",
    "dist_corr=correlation(df[\"efficiency\"], df[\"tyre1_press\"])\n",
    "print(dist_corr)\n",
    "scores.append(dist_corr-1)\n",
    "print(scores)"
   ]
  },
  {
   "cell_type": "code",
   "execution_count": 5,
   "metadata": {},
   "outputs": [
    {
     "name": "stdout",
     "output_type": "stream",
     "text": [
      "Tyre 2 Pressure\n",
      "0.921415498655\n",
      "[0.026166850095449723, 0.036753122354680201, -0.078584501345207336]\n"
     ]
    }
   ],
   "source": [
    "from scipy import stats \n",
    "print('Tyre 2 Pressure')\n",
    "dist_corr=correlation(df[\"efficiency\"], df[\"tyre2_press\"])\n",
    "print(dist_corr)\n",
    "scores.append(dist_corr-1)\n",
    "print(scores)"
   ]
  },
  {
   "cell_type": "code",
   "execution_count": 6,
   "metadata": {},
   "outputs": [
    {
     "name": "stdout",
     "output_type": "stream",
     "text": [
      "Tyre 3 Pressure\n",
      "0.976653982757\n",
      "[0.026166850095449723, 0.036753122354680201, -0.078584501345207336, -0.023346017242834582]\n"
     ]
    }
   ],
   "source": [
    "from scipy import stats \n",
    "print('Tyre 3 Pressure')\n",
    "dist_corr=correlation(df[\"efficiency\"], df[\"tyre3_press\"])\n",
    "print(dist_corr)\n",
    "scores.append(dist_corr-1)\n",
    "print(scores)"
   ]
  },
  {
   "cell_type": "code",
   "execution_count": 7,
   "metadata": {},
   "outputs": [
    {
     "name": "stdout",
     "output_type": "stream",
     "text": [
      "Tyre 4 Pressure\n",
      "0.97574634748\n",
      "[0.026166850095449723, 0.036753122354680201, -0.078584501345207336, -0.023346017242834582, -0.024253652520025759]\n"
     ]
    }
   ],
   "source": [
    "from scipy import stats \n",
    "print('Tyre 4 Pressure')\n",
    "dist_corr=correlation(df[\"efficiency\"], df[\"tyre4_press\"])\n",
    "print(dist_corr)\n",
    "scores.append(dist_corr-1)\n",
    "print(scores)"
   ]
  },
  {
   "cell_type": "code",
   "execution_count": 8,
   "metadata": {},
   "outputs": [
    {
     "name": "stdout",
     "output_type": "stream",
     "text": [
      "Tyre 5 Pressure\n",
      "0.959714006856\n",
      "[0.026166850095449723, 0.036753122354680201, -0.078584501345207336, -0.023346017242834582, -0.024253652520025759, -0.040285993143540755]\n"
     ]
    }
   ],
   "source": [
    "from scipy import stats \n",
    "print('Tyre 5 Pressure')\n",
    "dist_corr=correlation(df[\"efficiency\"], df[\"tyre5_press\"])\n",
    "print(dist_corr)\n",
    "scores.append(dist_corr-1)\n",
    "print(scores)"
   ]
  },
  {
   "cell_type": "code",
   "execution_count": 9,
   "metadata": {},
   "outputs": [
    {
     "name": "stdout",
     "output_type": "stream",
     "text": [
      "Tyre 6 Pressure\n",
      "1.0658097554\n",
      "[0.026166850095449723, 0.036753122354680201, -0.078584501345207336, -0.023346017242834582, -0.024253652520025759, -0.040285993143540755, 0.065809755404775627]\n"
     ]
    }
   ],
   "source": [
    "from scipy import stats \n",
    "print('Tyre 6 Pressure')\n",
    "dist_corr=correlation(df[\"efficiency\"], df[\"tyre6_press\"])\n",
    "print(dist_corr)\n",
    "scores.append(dist_corr-1)\n",
    "print(scores)"
   ]
  },
  {
   "cell_type": "code",
   "execution_count": 10,
   "metadata": {},
   "outputs": [
    {
     "name": "stdout",
     "output_type": "stream",
     "text": [
      "Average Speed\n",
      "0.994519822069\n",
      "[0.026166850095449723, 0.036753122354680201, -0.078584501345207336, -0.023346017242834582, -0.024253652520025759, -0.040285993143540755, 0.065809755404775627, -0.0054801779314241905]\n"
     ]
    }
   ],
   "source": [
    "from scipy import stats \n",
    "print('Average Speed')\n",
    "dist_corr=correlation(df[\"efficiency\"], df[\"avg_speed\"])\n",
    "print(dist_corr)\n",
    "scores.append(dist_corr-1)\n",
    "print(scores)"
   ]
  },
  {
   "cell_type": "code",
   "execution_count": 11,
   "metadata": {},
   "outputs": [
    {
     "name": "stdout",
     "output_type": "stream",
     "text": [
      "Time\n",
      "0.9797161722\n",
      "[0.026166850095449723, 0.036753122354680201, -0.078584501345207336, -0.023346017242834582, -0.024253652520025759, -0.040285993143540755, 0.065809755404775627, -0.0054801779314241905, -0.020283827800015808]\n"
     ]
    }
   ],
   "source": [
    "from scipy import stats \n",
    "print('Time')\n",
    "dist_corr=correlation(df[\"efficiency\"], df[\"time\"])\n",
    "print(dist_corr)\n",
    "scores.append(dist_corr-1)\n",
    "print(scores)"
   ]
  },
  {
   "cell_type": "code",
   "execution_count": 12,
   "metadata": {},
   "outputs": [
    {
     "name": "stdout",
     "output_type": "stream",
     "text": [
      "Fuel\n",
      "1.09325709396\n",
      "[0.026166850095449723, 0.036753122354680201, -0.078584501345207336, -0.023346017242834582, -0.024253652520025759, -0.040285993143540755, 0.065809755404775627, -0.0054801779314241905, -0.020283827800015808, 0.093257093958590609]\n"
     ]
    }
   ],
   "source": [
    "from scipy import stats \n",
    "print('Fuel')\n",
    "dist_corr=correlation(df[\"efficiency\"], df[\"fuel\"])\n",
    "print(dist_corr)\n",
    "scores.append(dist_corr-1)\n",
    "print(scores)"
   ]
  },
  {
   "cell_type": "code",
   "execution_count": 13,
   "metadata": {},
   "outputs": [
    {
     "name": "stdout",
     "output_type": "stream",
     "text": [
      "{'Temperature': 0.026166850095449723, 'Tyre 1 Pressure': 0.036753122354680201, 'Tyre 2 Pressure': -0.078584501345207336, 'Tyre 3 Pressure': -0.023346017242834582, 'Tyre 4 Pressure': -0.024253652520025759, 'Tyre 5 Pressure': -0.040285993143540755, 'Tyre 6 Pressure': 0.065809755404775627, 'Average Speed': -0.0054801779314241905, 'Time': -0.020283827800015808, 'Fuel': 0.093257093958590609}\n"
     ]
    }
   ],
   "source": [
    "feature_dict = {i:label for i,label in zip(\n",
    "                  ('Temperature',\n",
    "                     'Tyre 1 Pressure',\n",
    "                     'Tyre 2 Pressure',\n",
    "                     'Tyre 3 Pressure',\n",
    "                     'Tyre 4 Pressure',\n",
    "                     'Tyre 5 Pressure',\n",
    "                     'Tyre 6 Pressure',\n",
    "                     'Average Speed',\n",
    "                     'Time',\n",
    "                     'Fuel',),scores)}\n",
    "print(feature_dict)\n",
    "final_df['DCC'] = final_df['Feature'].map(feature_dict)"
   ]
  },
  {
   "cell_type": "code",
   "execution_count": 15,
   "metadata": {},
   "outputs": [
    {
     "data": {
      "text/html": [
       "<div>\n",
       "<style>\n",
       "    .dataframe thead tr:only-child th {\n",
       "        text-align: right;\n",
       "    }\n",
       "\n",
       "    .dataframe thead th {\n",
       "        text-align: left;\n",
       "    }\n",
       "\n",
       "    .dataframe tbody tr th {\n",
       "        vertical-align: top;\n",
       "    }\n",
       "</style>\n",
       "<table border=\"1\" class=\"dataframe\">\n",
       "  <thead>\n",
       "    <tr style=\"text-align: right;\">\n",
       "      <th></th>\n",
       "      <th>Feature</th>\n",
       "      <th>DCC</th>\n",
       "      <th>Rank</th>\n",
       "    </tr>\n",
       "  </thead>\n",
       "  <tbody>\n",
       "    <tr>\n",
       "      <th>9</th>\n",
       "      <td>Fuel</td>\n",
       "      <td>0.093257</td>\n",
       "      <td>1</td>\n",
       "    </tr>\n",
       "    <tr>\n",
       "      <th>2</th>\n",
       "      <td>Tyre 2 Pressure</td>\n",
       "      <td>0.078585</td>\n",
       "      <td>2</td>\n",
       "    </tr>\n",
       "    <tr>\n",
       "      <th>6</th>\n",
       "      <td>Tyre 6 Pressure</td>\n",
       "      <td>0.065810</td>\n",
       "      <td>3</td>\n",
       "    </tr>\n",
       "    <tr>\n",
       "      <th>5</th>\n",
       "      <td>Tyre 5 Pressure</td>\n",
       "      <td>0.040286</td>\n",
       "      <td>4</td>\n",
       "    </tr>\n",
       "    <tr>\n",
       "      <th>1</th>\n",
       "      <td>Tyre 1 Pressure</td>\n",
       "      <td>0.036753</td>\n",
       "      <td>5</td>\n",
       "    </tr>\n",
       "    <tr>\n",
       "      <th>0</th>\n",
       "      <td>Temperature</td>\n",
       "      <td>0.026167</td>\n",
       "      <td>6</td>\n",
       "    </tr>\n",
       "    <tr>\n",
       "      <th>4</th>\n",
       "      <td>Tyre 4 Pressure</td>\n",
       "      <td>0.024254</td>\n",
       "      <td>7</td>\n",
       "    </tr>\n",
       "    <tr>\n",
       "      <th>3</th>\n",
       "      <td>Tyre 3 Pressure</td>\n",
       "      <td>0.023346</td>\n",
       "      <td>8</td>\n",
       "    </tr>\n",
       "    <tr>\n",
       "      <th>8</th>\n",
       "      <td>Time</td>\n",
       "      <td>0.020284</td>\n",
       "      <td>9</td>\n",
       "    </tr>\n",
       "    <tr>\n",
       "      <th>7</th>\n",
       "      <td>Average Speed</td>\n",
       "      <td>0.005480</td>\n",
       "      <td>10</td>\n",
       "    </tr>\n",
       "  </tbody>\n",
       "</table>\n",
       "</div>"
      ],
      "text/plain": [
       "           Feature       DCC  Rank\n",
       "9             Fuel  0.093257     1\n",
       "2  Tyre 2 Pressure  0.078585     2\n",
       "6  Tyre 6 Pressure  0.065810     3\n",
       "5  Tyre 5 Pressure  0.040286     4\n",
       "1  Tyre 1 Pressure  0.036753     5\n",
       "0      Temperature  0.026167     6\n",
       "4  Tyre 4 Pressure  0.024254     7\n",
       "3  Tyre 3 Pressure  0.023346     8\n",
       "8             Time  0.020284     9\n",
       "7    Average Speed  0.005480    10"
      ]
     },
     "execution_count": 15,
     "metadata": {},
     "output_type": "execute_result"
    }
   ],
   "source": [
    "final_df['DCC'] = final_df['DCC'].abs()\n",
    "\n",
    "final_df=final_df.sort_values(by='DCC', ascending=False)\n",
    "\n",
    "final_df['Rank']=range(1,11)\n",
    "\n",
    "final_df"
   ]
  },
  {
   "cell_type": "code",
   "execution_count": null,
   "metadata": {
    "collapsed": true
   },
   "outputs": [],
   "source": []
  }
 ],
 "metadata": {
  "kernelspec": {
   "display_name": "Python 3",
   "language": "python",
   "name": "python3"
  },
  "language_info": {
   "codemirror_mode": {
    "name": "ipython",
    "version": 3
   },
   "file_extension": ".py",
   "mimetype": "text/x-python",
   "name": "python",
   "nbconvert_exporter": "python",
   "pygments_lexer": "ipython3",
   "version": "3.6.1"
  }
 },
 "nbformat": 4,
 "nbformat_minor": 2
}
